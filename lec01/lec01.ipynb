{
 "cells": [
  {
   "cell_type": "code",
   "execution_count": 2,
   "metadata": {},
   "outputs": [],
   "source": [
    "from datascience import *\n",
    "import numpy as np\n",
    "%matplotlib inline\n",
    "import matplotlib.pyplot as plots\n",
    "plots.style.use('fivethirtyeight')\n",
    "import warnings\n",
    "warnings.simplefilter(action=\"ignore\", category=FutureWarning)\n",
    "\n",
    "from urllib.request import urlopen \n",
    "import re\n",
    "def read_url(url): \n",
    "    return re.sub('\\\\s+', ' ', urlopen(url).read().decode())"
   ]
  },
  {
   "cell_type": "code",
   "execution_count": 3,
   "metadata": {},
   "outputs": [],
   "source": [
    "little_women_url = 'https://www.inferentialthinking.com/chapters/01/3/little_women.txt'\n",
    "little_women_text = read_url(little_women_url)\n",
    "chapters = little_women_text.split('CHAPTER ')[1:]"
   ]
  },
  {
   "cell_type": "code",
   "execution_count": 4,
   "metadata": {},
   "outputs": [
    {
     "data": {
      "text/html": [
       "<table border=\"1\" class=\"dataframe\">\n",
       "    <thead>\n",
       "        <tr>\n",
       "            <th>Text</th>\n",
       "        </tr>\n",
       "    </thead>\n",
       "    <tbody>\n",
       "        <tr>\n",
       "            <td>ONE PLAYING PILGRIMS \"Christmas won't be Christmas witho ...</td>\n",
       "        </tr>\n",
       "    </tbody>\n",
       "        <tr>\n",
       "            <td>TWO A MERRY CHRISTMAS Jo was the first to wake in the gr ...</td>\n",
       "        </tr>\n",
       "    </tbody>\n",
       "        <tr>\n",
       "            <td>THREE THE LAURENCE BOY \"Jo! Jo! Where are you?\" cried Me ...</td>\n",
       "        </tr>\n",
       "    </tbody>\n",
       "        <tr>\n",
       "            <td>FOUR BURDENS \"Oh, dear, how hard it does seem to take up ...</td>\n",
       "        </tr>\n",
       "    </tbody>\n",
       "        <tr>\n",
       "            <td>FIVE BEING NEIGHBORLY \"What in the world are you going t ...</td>\n",
       "        </tr>\n",
       "    </tbody>\n",
       "        <tr>\n",
       "            <td>SIX BETH FINDS THE PALACE BEAUTIFUL The big house did pr ...</td>\n",
       "        </tr>\n",
       "    </tbody>\n",
       "        <tr>\n",
       "            <td>SEVEN AMY'S VALLEY OF HUMILIATION \"That boy is a perfect ...</td>\n",
       "        </tr>\n",
       "    </tbody>\n",
       "        <tr>\n",
       "            <td>EIGHT JO MEETS APOLLYON \"Girls, where are you going?\" as ...</td>\n",
       "        </tr>\n",
       "    </tbody>\n",
       "        <tr>\n",
       "            <td>NINE MEG GOES TO VANITY FAIR \"I do think it was the most ...</td>\n",
       "        </tr>\n",
       "    </tbody>\n",
       "        <tr>\n",
       "            <td>TEN THE P.C. AND P.O. As spring came on, a new set of am ...</td>\n",
       "        </tr>\n",
       "    </tbody>\n",
       "</table>\n",
       "<p>... (37 rows omitted)</p>"
      ],
      "text/plain": [
       "Text\n",
       "ONE PLAYING PILGRIMS \"Christmas won't be Christmas witho ...\n",
       "TWO A MERRY CHRISTMAS Jo was the first to wake in the gr ...\n",
       "THREE THE LAURENCE BOY \"Jo! Jo! Where are you?\" cried Me ...\n",
       "FOUR BURDENS \"Oh, dear, how hard it does seem to take up ...\n",
       "FIVE BEING NEIGHBORLY \"What in the world are you going t ...\n",
       "SIX BETH FINDS THE PALACE BEAUTIFUL The big house did pr ...\n",
       "SEVEN AMY'S VALLEY OF HUMILIATION \"That boy is a perfect ...\n",
       "EIGHT JO MEETS APOLLYON \"Girls, where are you going?\" as ...\n",
       "NINE MEG GOES TO VANITY FAIR \"I do think it was the most ...\n",
       "TEN THE P.C. AND P.O. As spring came on, a new set of am ...\n",
       "... (37 rows omitted)"
      ]
     },
     "execution_count": 4,
     "metadata": {},
     "output_type": "execute_result"
    }
   ],
   "source": [
    "Table().with_column('Text', chapters)"
   ]
  },
  {
   "cell_type": "code",
   "execution_count": 5,
   "metadata": {},
   "outputs": [
    {
     "data": {
      "text/plain": [
       "47"
      ]
     },
     "execution_count": 5,
     "metadata": {},
     "output_type": "execute_result"
    }
   ],
   "source": [
    "len(chapters)"
   ]
  },
  {
   "cell_type": "code",
   "execution_count": 6,
   "metadata": {},
   "outputs": [
    {
     "data": {
      "text/plain": [
       "array([8, 9, 1, 1, 1, 0, 0, 0, 0, 0, 0, 0, 0, 0, 0, 0, 0, 0, 0, 0, 0, 8,\n",
       "       0, 0, 0, 0, 0, 0, 0, 0, 0, 0, 2, 0, 0, 0, 6, 0, 0, 0, 1, 0, 0, 0,\n",
       "       0, 0, 0])"
      ]
     },
     "execution_count": 6,
     "metadata": {},
     "output_type": "execute_result"
    }
   ],
   "source": [
    "np.char.count(chapters, 'Christmas')"
   ]
  },
  {
   "cell_type": "code",
   "execution_count": 7,
   "metadata": {},
   "outputs": [
    {
     "data": {
      "text/plain": [
       "array([44, 21, 62, 34, 55, 13,  9, 71, 21, 12, 42, 60, 24, 48, 26, 13, 29,\n",
       "       35,  5, 29, 67, 17, 51, 36, 12, 17, 28, 69, 49, 39,  7, 60,  2, 55,\n",
       "       42, 35,  5, 47, 15, 15, 17, 36, 61,  9,  6, 56, 37])"
      ]
     },
     "execution_count": 7,
     "metadata": {},
     "output_type": "execute_result"
    }
   ],
   "source": [
    "np.char.count(chapters, 'Jo')"
   ]
  },
  {
   "cell_type": "code",
   "execution_count": 8,
   "metadata": {},
   "outputs": [
    {
     "data": {
      "text/html": [
       "<table border=\"1\" class=\"dataframe\">\n",
       "    <thead>\n",
       "        <tr>\n",
       "            <th>Jo</th> <th>Meg</th> <th>Amy</th> <th>Beth</th> <th>Laurie</th>\n",
       "        </tr>\n",
       "    </thead>\n",
       "    <tbody>\n",
       "        <tr>\n",
       "            <td>44  </td> <td>26  </td> <td>23  </td> <td>26  </td> <td>0     </td>\n",
       "        </tr>\n",
       "    </tbody>\n",
       "        <tr>\n",
       "            <td>21  </td> <td>20  </td> <td>13  </td> <td>12  </td> <td>0     </td>\n",
       "        </tr>\n",
       "    </tbody>\n",
       "        <tr>\n",
       "            <td>62  </td> <td>36  </td> <td>2   </td> <td>2   </td> <td>16    </td>\n",
       "        </tr>\n",
       "    </tbody>\n",
       "        <tr>\n",
       "            <td>34  </td> <td>17  </td> <td>14  </td> <td>18  </td> <td>0     </td>\n",
       "        </tr>\n",
       "    </tbody>\n",
       "        <tr>\n",
       "            <td>55  </td> <td>13  </td> <td>6   </td> <td>14  </td> <td>35    </td>\n",
       "        </tr>\n",
       "    </tbody>\n",
       "        <tr>\n",
       "            <td>13  </td> <td>5   </td> <td>6   </td> <td>28  </td> <td>9     </td>\n",
       "        </tr>\n",
       "    </tbody>\n",
       "        <tr>\n",
       "            <td>9   </td> <td>5   </td> <td>27  </td> <td>5   </td> <td>7     </td>\n",
       "        </tr>\n",
       "    </tbody>\n",
       "        <tr>\n",
       "            <td>71  </td> <td>16  </td> <td>48  </td> <td>9   </td> <td>17    </td>\n",
       "        </tr>\n",
       "    </tbody>\n",
       "        <tr>\n",
       "            <td>21  </td> <td>71  </td> <td>3   </td> <td>5   </td> <td>24    </td>\n",
       "        </tr>\n",
       "    </tbody>\n",
       "        <tr>\n",
       "            <td>12  </td> <td>4   </td> <td>5   </td> <td>5   </td> <td>4     </td>\n",
       "        </tr>\n",
       "    </tbody>\n",
       "</table>\n",
       "<p>... (37 rows omitted)</p>"
      ],
      "text/plain": [
       "Jo   | Meg  | Amy  | Beth | Laurie\n",
       "44   | 26   | 23   | 26   | 0\n",
       "21   | 20   | 13   | 12   | 0\n",
       "62   | 36   | 2    | 2    | 16\n",
       "34   | 17   | 14   | 18   | 0\n",
       "55   | 13   | 6    | 14   | 35\n",
       "13   | 5    | 6    | 28   | 9\n",
       "9    | 5    | 27   | 5    | 7\n",
       "71   | 16   | 48   | 9    | 17\n",
       "21   | 71   | 3    | 5    | 24\n",
       "12   | 4    | 5    | 5    | 4\n",
       "... (37 rows omitted)"
      ]
     },
     "execution_count": 8,
     "metadata": {},
     "output_type": "execute_result"
    }
   ],
   "source": [
    "Table().with_columns(\n",
    "    'Jo', np.char.count(chapters, 'Jo'),\n",
    "    'Meg', np.char.count(chapters, 'Meg'),\n",
    "    'Amy', np.char.count(chapters, 'Amy'),\n",
    "    'Beth', np.char.count(chapters, 'Beth'),\n",
    "    'Laurie', np.char.count(chapters, 'Laurie')\n",
    ")"
   ]
  },
  {
   "cell_type": "markdown",
   "metadata": {},
   "source": [
    "<br><br><br><br><br><br><br>"
   ]
  },
  {
   "cell_type": "markdown",
   "metadata": {},
   "source": [
    "## Visualization"
   ]
  },
  {
   "cell_type": "code",
   "execution_count": 8,
   "metadata": {},
   "outputs": [
    {
     "data": {
      "image/png": "[encoded data removed]",
      "text/plain": [
       "<matplotlib.figure.Figure at 0x7fa45d2404e0>"
      ]
     },
     "metadata": {},
     "output_type": "display_data"
    }
   ],
   "source": [
    "Table().with_columns(\n",
    "    'Jo', np.char.count(chapters, 'Jo'),\n",
    "    'Meg', np.char.count(chapters, 'Meg'),\n",
    "    'Amy', np.char.count(chapters, 'Amy'),\n",
    "    'Beth', np.char.count(chapters, 'Beth'),\n",
    "    'Laurie', np.char.count(chapters, 'Laurie')\n",
    ").cumsum().plot()"
   ]
  },
  {
   "cell_type": "markdown",
   "metadata": {},
   "source": [
    "<br><br><br><br><br><br><br>"
   ]
  },
  {
   "cell_type": "markdown",
   "metadata": {},
   "source": [
    "## Visualizing chapter length vs number of periods"
   ]
  },
  {
   "cell_type": "code",
   "execution_count": 9,
   "metadata": {},
   "outputs": [
    {
     "data": {
      "image/png": "[encoded data removed]",
      "text/plain": [
       "<matplotlib.figure.Figure at 0x7fa49998e5f8>"
      ]
     },
     "metadata": {},
     "output_type": "display_data"
    }
   ],
   "source": [
    "Table().with_columns([\n",
    "        'Chapter Length', [len(c) for c in chapters],\n",
    "        'Number of Periods', np.char.count(chapters, '.'),\n",
    "    ]).scatter('Number of Periods')"
   ]
  },
  {
   "cell_type": "code",
   "execution_count": null,
   "metadata": {},
   "outputs": [],
   "source": []
  }
 ],
 "metadata": {
  "anaconda-cloud": {},
  "kernelspec": {
   "display_name": "Python 3",
   "language": "python",
   "name": "python3"
  },
  "language_info": {
   "codemirror_mode": {
    "name": "ipython",
    "version": 3
   },
   "file_extension": ".py",
   "mimetype": "text/x-python",
   "name": "python",
   "nbconvert_exporter": "python",
   "pygments_lexer": "ipython3",
   "version": "3.6.4"
  }
 },
 "nbformat": 4,
 "nbformat_minor": 1
}
